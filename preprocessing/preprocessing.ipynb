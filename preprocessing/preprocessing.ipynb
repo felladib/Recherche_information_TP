{
 "cells": [
  {
   "cell_type": "markdown",
   "metadata": {},
   "source": [
    "# **TP N°1 Représentation de l'Information : Indexation**"
   ]
  },
  {
   "cell_type": "markdown",
   "metadata": {},
   "source": [
    "*importer les bibliotheque necessaire*"
   ]
  },
  {
   "cell_type": "code",
   "execution_count": 1,
   "metadata": {},
   "outputs": [],
   "source": [
    "import os\n",
    "import nltk\n",
    "from nltk.tokenize import RegexpTokenizer\n",
    "from collections import defaultdict\n",
    "import json\n"
   ]
  },
  {
   "cell_type": "code",
   "execution_count": 2,
   "metadata": {},
   "outputs": [
    {
     "name": "stderr",
     "output_type": "stream",
     "text": [
      "[nltk_data] Downloading package stopwords to\n",
      "[nltk_data]     C:\\Users\\ryan\\AppData\\Roaming\\nltk_data...\n",
      "[nltk_data]   Package stopwords is already up-to-date!\n"
     ]
    }
   ],
   "source": [
    "nltk.download('stopwords')\n",
    "from nltk.corpus import stopwords"
   ]
  },
  {
   "cell_type": "markdown",
   "metadata": {},
   "source": [
    "*definir le path de nos collections*"
   ]
  },
  {
   "cell_type": "code",
   "execution_count": 3,
   "metadata": {},
   "outputs": [],
   "source": [
    "# Crée la liste des documents dans le dossier \"Collection\"\n",
    "collection_path = '../Collections'  \n",
    "documents = [f for f in os.listdir(collection_path) if f.endswith('.txt')]"
   ]
  },
  {
   "cell_type": "code",
   "execution_count": 4,
   "metadata": {},
   "outputs": [],
   "source": [
    "def extraire_nom_sans_extension(fichier):\n",
    "    return fichier.split('.')[0]"
   ]
  },
  {
   "cell_type": "code",
   "execution_count": 5,
   "metadata": {},
   "outputs": [],
   "source": [
    "\n",
    "ExpReg = RegexpTokenizer('(?:[A-Z]\\.)+|\\d+|\\w+|\\.{3}')\n",
    "# Cette partie permet de capturer des abréviations comme \"D.Z.\", \"U.S.A.\", etc. Cela prend en compte une ou plusieurs lettres majuscules suivies d'un point.\n",
    "# Cela permet de capturer des nombres comme 123, 45, 7890, etc.\n",
    "# Cela permet de capturer des mots comme \"apple\", \"hello\", \"AI123\", etc.\n",
    "# Cette partie capture des points de suspension, c'est-à-dire \"...\".\n",
    "\n",
    "stop_words = set(stopwords.words('english'))\n",
    "porter_stemmer = nltk.PorterStemmer()\n",
    "lancaster_stemmer = nltk.LancasterStemmer()"
   ]
  },
  {
   "cell_type": "markdown",
   "metadata": {},
   "source": [
    "*Extraction automatique des termes*"
   ]
  },
  {
   "cell_type": "code",
   "execution_count": 6,
   "metadata": {},
   "outputs": [],
   "source": [
    "def extraire_termes(texte):\n",
    "    termes_split = texte.split()  # Utilisation de split()\n",
    "    termes_regexp = ExpReg.tokenize(texte)  # Utilisation de RegexpTokenizer\n",
    "    return termes_split, termes_regexp"
   ]
  },
  {
   "cell_type": "markdown",
   "metadata": {},
   "source": [
    "*Suppression des mots-vides*"
   ]
  },
  {
   "cell_type": "code",
   "execution_count": 7,
   "metadata": {},
   "outputs": [],
   "source": [
    "def supprimer_mots_vides(termes):\n",
    "    return [terme for terme in termes if terme.lower() not in stop_words]"
   ]
  },
  {
   "cell_type": "markdown",
   "metadata": {},
   "source": [
    "*Normalisation (stemming) des termes extraits*\n",
    "\n",
    "* **Lancaster Stemmer** : Il est généralement plus agressif et a tendance à réduire les mots de manière plus radicale. Par exemple, il peut couper des parties importantes des mots et produire des formes très courtes qui peuvent être difficiles à interpréter. Cela peut parfois nuire à la précision dans certaines applications.\n",
    "* **Porter Stemmer** : Il est moins agressif et produit des formes plus proches de la racine réelle des mots. Le Porter Stemmer est conçu pour être moins destructeur que Lancaster et est généralement plus adapté pour les applications courantes de recherche d'information."
   ]
  },
  {
   "cell_type": "code",
   "execution_count": 8,
   "metadata": {},
   "outputs": [],
   "source": [
    "def normaliser_termes(termes):\n",
    "    termes_porter = [porter_stemmer.stem(terme) for terme in termes]\n",
    "    termes_lancaster = [lancaster_stemmer.stem(terme) for terme in termes]\n",
    "    return termes_porter, termes_lancaster"
   ]
  },
  {
   "cell_type": "markdown",
   "metadata": {},
   "source": [
    "*Génération des fichier descripteurs*"
   ]
  },
  {
   "cell_type": "code",
   "execution_count": 9,
   "metadata": {},
   "outputs": [],
   "source": [
    "# Fonction pour générer le fichier descriptif\n",
    "def generer_fichier_descripteur(doc, termes_porter ,termes_lancaster):\n",
    "    descripteur_path1 = '..\\Descripteurs\\porter'\n",
    "    descripteur_path2 = '..\\Descripteurs\\lancaster'\n",
    "    \n",
    "    os.makedirs(descripteur_path1, exist_ok=True)\n",
    "    os.makedirs(descripteur_path2, exist_ok=True)\n",
    "    \n",
    "    descripteur_file1 = os.path.join(descripteur_path1, f\"{doc}_descripteur.txt\")\n",
    "    descripteur_file2 = os.path.join(descripteur_path2, f\"{doc}_descripteur.txt\")\n",
    "    \n",
    "    nom_sans_extension = extraire_nom_sans_extension(doc)\n",
    "    \n",
    "    with open(descripteur_file1, 'w', encoding='utf-8') as f:\n",
    "        for terme in termes_porter:\n",
    "            f.write(f\"{nom_sans_extension} {terme}\\n\")\n",
    "       \n",
    "    with open(descripteur_file2, 'w', encoding='utf-8') as f:\n",
    "        for terme in termes_lancaster:\n",
    "            f.write(f\"{nom_sans_extension} {terme}\\n\")\n",
    "       "
   ]
  },
  {
   "cell_type": "markdown",
   "metadata": {},
   "source": [
    "*Construire le fichier inverse*"
   ]
  },
  {
   "cell_type": "code",
   "execution_count": 10,
   "metadata": {},
   "outputs": [],
   "source": [
    "def construire_index_inverse(document , termes_porter , termes_lancaster ,index_inverse_porter , index_inverse_lancaster ): #pour un doument\n",
    "    nom_sans_extension = extraire_nom_sans_extension(document)\n",
    "            \n",
    "    for terme in termes_porter:  # Utiliser set pour éviter les doublons\n",
    "            index_inverse_porter.setdefault(terme, []).append(nom_sans_extension)\n",
    "\n",
    "    for terme in termes_lancaster:  # Utiliser set pour éviter les doublons set(termes_lancaster)\n",
    "        index_inverse_lancaster.setdefault(terme, []).append(nom_sans_extension)"
   ]
  },
  {
   "cell_type": "code",
   "execution_count": 11,
   "metadata": {},
   "outputs": [
    {
     "name": "stdout",
     "output_type": "stream",
     "text": [
      "Document D1 - Split (): ['experimental', 'investigation', 'of', 'the', 'aerodynamics', 'of', 'a', 'wing', 'in', 'a', 'slipstream', '.', 'an', 'experimental', 'study', 'of', 'a', 'wing', 'in', 'a', 'propeller', 'slipstream', 'was', 'made', 'in', 'order', 'to', 'determine', 'the', 'spanwise', 'distribution', 'of', 'the', 'lift', 'increase', 'due', 'to', 'slipstream', 'at', 'different', 'angles', 'of', 'attack', 'of', 'the', 'wing', 'and', 'at', 'different', 'free', 'stream', 'to', 'slipstream', 'velocity', 'ratios', '.', 'the', 'results', 'were', 'intended', 'in', 'part', 'as', 'an', 'evaluation', 'basis', 'for', 'different', 'theoretical', 'treatments', 'of', 'this', 'problem', '.', 'the', 'comparative', 'span', 'loading', 'curves,', 'together', 'with', 'supporting', 'evidence,', 'showed', 'that', 'a', 'substantial', 'part', 'of', 'the', 'lift', 'increment', 'produced', 'by', 'the', 'slipstream', 'was', 'due', 'to', 'a', '/destalling/', 'or', 'boundary-layer-control', 'effect', '.', 'the', 'integrated', 'remaining', 'lift', 'increment,', 'after', 'subtracting', 'this', 'destalling', 'lift,', 'was', 'found', 'to', 'agree', 'well', 'with', 'a', 'potential', 'flow', 'theory', '.', 'an', 'empirical', 'evaluation', 'of', 'the', 'destalling', 'effects', 'was', 'made', 'for', 'the', 'specific', 'configuration', 'of', 'the', 'experiment', '.']\n",
      "Document D1 - RegexpTokenizer(): ['experimental', 'investigation', 'of', 'the', 'aerodynamics', 'of', 'a', 'wing', 'in', 'a', 'slipstream', 'an', 'experimental', 'study', 'of', 'a', 'wing', 'in', 'a', 'propeller', 'slipstream', 'was', 'made', 'in', 'order', 'to', 'determine', 'the', 'spanwise', 'distribution', 'of', 'the', 'lift', 'increase', 'due', 'to', 'slipstream', 'at', 'different', 'angles', 'of', 'attack', 'of', 'the', 'wing', 'and', 'at', 'different', 'free', 'stream', 'to', 'slipstream', 'velocity', 'ratios', 'the', 'results', 'were', 'intended', 'in', 'part', 'as', 'an', 'evaluation', 'basis', 'for', 'different', 'theoretical', 'treatments', 'of', 'this', 'problem', 'the', 'comparative', 'span', 'loading', 'curves', 'together', 'with', 'supporting', 'evidence', 'showed', 'that', 'a', 'substantial', 'part', 'of', 'the', 'lift', 'increment', 'produced', 'by', 'the', 'slipstream', 'was', 'due', 'to', 'a', 'destalling', 'or', 'boundary', 'layer', 'control', 'effect', 'the', 'integrated', 'remaining', 'lift', 'increment', 'after', 'subtracting', 'this', 'destalling', 'lift', 'was', 'found', 'to', 'agree', 'well', 'with', 'a', 'potential', 'flow', 'theory', 'an', 'empirical', 'evaluation', 'of', 'the', 'destalling', 'effects', 'was', 'made', 'for', 'the', 'specific', 'configuration', 'of', 'the', 'experiment']\n",
      " length : 139\n",
      "Document D1 - termes sans mots vides: ['experimental', 'investigation', 'aerodynamics', 'wing', 'slipstream', 'experimental', 'study', 'wing', 'propeller', 'slipstream', 'made', 'order', 'determine', 'spanwise', 'distribution', 'lift', 'increase', 'due', 'slipstream', 'different', 'angles', 'attack', 'wing', 'different', 'free', 'stream', 'slipstream', 'velocity', 'ratios', 'results', 'intended', 'part', 'evaluation', 'basis', 'different', 'theoretical', 'treatments', 'problem', 'comparative', 'span', 'loading', 'curves', 'together', 'supporting', 'evidence', 'showed', 'substantial', 'part', 'lift', 'increment', 'produced', 'slipstream', 'due', 'destalling', 'boundary', 'layer', 'control', 'effect', 'integrated', 'remaining', 'lift', 'increment', 'subtracting', 'destalling', 'lift', 'found', 'agree', 'well', 'potential', 'flow', 'theory', 'empirical', 'evaluation', 'destalling', 'effects', 'made', 'specific', 'configuration', 'experiment']\n",
      "Document D1 - PorterStemmer: ['experiment', 'investig', 'aerodynam', 'wing', 'slipstream', 'experiment', 'studi', 'wing', 'propel', 'slipstream', 'made', 'order', 'determin', 'spanwis', 'distribut', 'lift', 'increas', 'due', 'slipstream', 'differ', 'angl', 'attack', 'wing', 'differ', 'free', 'stream', 'slipstream', 'veloc', 'ratio', 'result', 'intend', 'part', 'evalu', 'basi', 'differ', 'theoret', 'treatment', 'problem', 'compar', 'span', 'load', 'curv', 'togeth', 'support', 'evid', 'show', 'substanti', 'part', 'lift', 'increment', 'produc', 'slipstream', 'due', 'destal', 'boundari', 'layer', 'control', 'effect', 'integr', 'remain', 'lift', 'increment', 'subtract', 'destal', 'lift', 'found', 'agre', 'well', 'potenti', 'flow', 'theori', 'empir', 'evalu', 'destal', 'effect', 'made', 'specif', 'configur', 'experi']\n",
      "Document D2 - Split (): ['simple', 'shear', 'flow', 'past', 'a', 'flat', 'plate', 'in', 'an', 'incompressible', 'fluid', 'of', 'small', 'viscosity', '.', 'in', 'the', 'study', 'of', 'high-speed', 'viscous', 'flow', 'past', 'a', 'two-dimensional', 'body', 'it', 'is', 'usually', 'necessary', 'to', 'consider', 'a', 'curved', 'shock', 'wave', 'emitting', 'from', 'the', 'nose', 'or', 'leading', 'edge', 'of', 'the', 'body', '.', 'consequently,', 'there', 'exists', 'an', 'inviscid', 'rotational', 'flow', 'region', 'between', 'the', 'shock', 'wave', 'and', 'the', 'boundary', 'layer', '.', 'such', 'a', 'situation', 'arises,', 'for', 'instance,', 'in', 'the', 'study', 'of', 'the', 'hypersonic', 'viscous', 'flow', 'past', 'a', 'flat', 'plate', '.', 'the', 'situation', 'is', 'somewhat', 'different', 'from', \"prandtl's\", 'classical', 'boundary-layer', 'problem', '.', 'in', \"prandtl's\", 'original', 'problem', 'the', 'inviscid', 'free', 'stream', 'outside', 'the', 'boundary', 'layer', 'is', 'irrotational', 'while', 'in', 'a', 'hypersonic', 'boundary-layer', 'problem', 'the', 'inviscid', 'free', 'stream', 'must', 'be', 'considered', 'as', 'rotational', '.', 'the', 'possible', 'effects', 'of', 'vorticity', 'have', 'been', 'recently', 'discussed', 'by', 'ferri', 'and', 'libby', '.', 'in', 'the', 'present', 'paper,', 'the', 'simple', 'shear', 'flow', 'past', 'a', 'flat', 'plate', 'in', 'a', 'fluid', 'of', 'small', 'viscosity', 'is', 'investigated', '.', 'it', 'can', 'be', 'shown', 'that', 'this', 'problem', 'can', 'again', 'be', 'treated', 'by', 'the', 'boundary-layer', 'approximation,', 'the', 'only', 'novel', 'feature', 'being', 'that', 'the', 'free', 'stream', 'has', 'a', 'constant', 'vorticity', '.', 'the', 'discussion', 'here', 'is', 'restricted', 'to', 'two-dimensional', 'incompressible', 'steady', 'flow', '.']\n",
      "Document D2 - RegexpTokenizer(): ['simple', 'shear', 'flow', 'past', 'a', 'flat', 'plate', 'in', 'an', 'incompressible', 'fluid', 'of', 'small', 'viscosity', 'in', 'the', 'study', 'of', 'high', 'speed', 'viscous', 'flow', 'past', 'a', 'two', 'dimensional', 'body', 'it', 'is', 'usually', 'necessary', 'to', 'consider', 'a', 'curved', 'shock', 'wave', 'emitting', 'from', 'the', 'nose', 'or', 'leading', 'edge', 'of', 'the', 'body', 'consequently', 'there', 'exists', 'an', 'inviscid', 'rotational', 'flow', 'region', 'between', 'the', 'shock', 'wave', 'and', 'the', 'boundary', 'layer', 'such', 'a', 'situation', 'arises', 'for', 'instance', 'in', 'the', 'study', 'of', 'the', 'hypersonic', 'viscous', 'flow', 'past', 'a', 'flat', 'plate', 'the', 'situation', 'is', 'somewhat', 'different', 'from', 'prandtl', 's', 'classical', 'boundary', 'layer', 'problem', 'in', 'prandtl', 's', 'original', 'problem', 'the', 'inviscid', 'free', 'stream', 'outside', 'the', 'boundary', 'layer', 'is', 'irrotational', 'while', 'in', 'a', 'hypersonic', 'boundary', 'layer', 'problem', 'the', 'inviscid', 'free', 'stream', 'must', 'be', 'considered', 'as', 'rotational', 'the', 'possible', 'effects', 'of', 'vorticity', 'have', 'been', 'recently', 'discussed', 'by', 'ferri', 'and', 'libby', 'in', 'the', 'present', 'paper', 'the', 'simple', 'shear', 'flow', 'past', 'a', 'flat', 'plate', 'in', 'a', 'fluid', 'of', 'small', 'viscosity', 'is', 'investigated', 'it', 'can', 'be', 'shown', 'that', 'this', 'problem', 'can', 'again', 'be', 'treated', 'by', 'the', 'boundary', 'layer', 'approximation', 'the', 'only', 'novel', 'feature', 'being', 'that', 'the', 'free', 'stream', 'has', 'a', 'constant', 'vorticity', 'the', 'discussion', 'here', 'is', 'restricted', 'to', 'two', 'dimensional', 'incompressible', 'steady', 'flow']\n",
      " length : 197\n",
      "Document D2 - termes sans mots vides: ['simple', 'shear', 'flow', 'past', 'flat', 'plate', 'incompressible', 'fluid', 'small', 'viscosity', 'study', 'high', 'speed', 'viscous', 'flow', 'past', 'two', 'dimensional', 'body', 'usually', 'necessary', 'consider', 'curved', 'shock', 'wave', 'emitting', 'nose', 'leading', 'edge', 'body', 'consequently', 'exists', 'inviscid', 'rotational', 'flow', 'region', 'shock', 'wave', 'boundary', 'layer', 'situation', 'arises', 'instance', 'study', 'hypersonic', 'viscous', 'flow', 'past', 'flat', 'plate', 'situation', 'somewhat', 'different', 'prandtl', 'classical', 'boundary', 'layer', 'problem', 'prandtl', 'original', 'problem', 'inviscid', 'free', 'stream', 'outside', 'boundary', 'layer', 'irrotational', 'hypersonic', 'boundary', 'layer', 'problem', 'inviscid', 'free', 'stream', 'must', 'considered', 'rotational', 'possible', 'effects', 'vorticity', 'recently', 'discussed', 'ferri', 'libby', 'present', 'paper', 'simple', 'shear', 'flow', 'past', 'flat', 'plate', 'fluid', 'small', 'viscosity', 'investigated', 'shown', 'problem', 'treated', 'boundary', 'layer', 'approximation', 'novel', 'feature', 'free', 'stream', 'constant', 'vorticity', 'discussion', 'restricted', 'two', 'dimensional', 'incompressible', 'steady', 'flow']\n",
      "Document D2 - PorterStemmer: ['simpl', 'shear', 'flow', 'past', 'flat', 'plate', 'incompress', 'fluid', 'small', 'viscos', 'studi', 'high', 'speed', 'viscou', 'flow', 'past', 'two', 'dimension', 'bodi', 'usual', 'necessari', 'consid', 'curv', 'shock', 'wave', 'emit', 'nose', 'lead', 'edg', 'bodi', 'consequ', 'exist', 'inviscid', 'rotat', 'flow', 'region', 'shock', 'wave', 'boundari', 'layer', 'situat', 'aris', 'instanc', 'studi', 'hyperson', 'viscou', 'flow', 'past', 'flat', 'plate', 'situat', 'somewhat', 'differ', 'prandtl', 'classic', 'boundari', 'layer', 'problem', 'prandtl', 'origin', 'problem', 'inviscid', 'free', 'stream', 'outsid', 'boundari', 'layer', 'irrot', 'hyperson', 'boundari', 'layer', 'problem', 'inviscid', 'free', 'stream', 'must', 'consid', 'rotat', 'possibl', 'effect', 'vortic', 'recent', 'discuss', 'ferri', 'libbi', 'present', 'paper', 'simpl', 'shear', 'flow', 'past', 'flat', 'plate', 'fluid', 'small', 'viscos', 'investig', 'shown', 'problem', 'treat', 'boundari', 'layer', 'approxim', 'novel', 'featur', 'free', 'stream', 'constant', 'vortic', 'discuss', 'restrict', 'two', 'dimension', 'incompress', 'steadi', 'flow']\n",
      "Document D3 - Split (): ['approximate', 'solutions', 'of', 'the', 'incompressible', 'laminar', 'boundary', 'layer', 'equations', 'for', 'a', 'plate', 'in', 'shear', 'flow', '.', 'the', 'two-dimensional', 'steady', 'boundary-layer', 'problem', 'for', 'a', 'flat', 'plate', 'in', 'a', 'shear', 'flow', 'of', 'incompressible', 'fluid', 'is', 'considered', '.', 'solutions', 'for', 'the', 'boundary-', 'layer', 'thickness,', 'skin', 'friction,', 'and', 'the', 'velocity', 'distribution', 'in', 'the', 'boundary', 'layer', 'are', 'obtained', 'by', 'the', 'karman-pohlhausen', 'technique', '.', 'comparison', 'with', 'the', 'boundary', 'layer', 'of', 'a', 'uniform', 'flow', 'has', 'also', 'been', 'made', 'to', 'show', 'the', 'effect', 'of', 'vorticity', '.']\n",
      "Document D3 - RegexpTokenizer(): ['approximate', 'solutions', 'of', 'the', 'incompressible', 'laminar', 'boundary', 'layer', 'equations', 'for', 'a', 'plate', 'in', 'shear', 'flow', 'the', 'two', 'dimensional', 'steady', 'boundary', 'layer', 'problem', 'for', 'a', 'flat', 'plate', 'in', 'a', 'shear', 'flow', 'of', 'incompressible', 'fluid', 'is', 'considered', 'solutions', 'for', 'the', 'boundary', 'layer', 'thickness', 'skin', 'friction', 'and', 'the', 'velocity', 'distribution', 'in', 'the', 'boundary', 'layer', 'are', 'obtained', 'by', 'the', 'karman', 'pohlhausen', 'technique', 'comparison', 'with', 'the', 'boundary', 'layer', 'of', 'a', 'uniform', 'flow', 'has', 'also', 'been', 'made', 'to', 'show', 'the', 'effect', 'of', 'vorticity']\n",
      " length : 77\n",
      "Document D3 - termes sans mots vides: ['approximate', 'solutions', 'incompressible', 'laminar', 'boundary', 'layer', 'equations', 'plate', 'shear', 'flow', 'two', 'dimensional', 'steady', 'boundary', 'layer', 'problem', 'flat', 'plate', 'shear', 'flow', 'incompressible', 'fluid', 'considered', 'solutions', 'boundary', 'layer', 'thickness', 'skin', 'friction', 'velocity', 'distribution', 'boundary', 'layer', 'obtained', 'karman', 'pohlhausen', 'technique', 'comparison', 'boundary', 'layer', 'uniform', 'flow', 'also', 'made', 'show', 'effect', 'vorticity']\n",
      "Document D3 - PorterStemmer: ['approxim', 'solut', 'incompress', 'laminar', 'boundari', 'layer', 'equat', 'plate', 'shear', 'flow', 'two', 'dimension', 'steadi', 'boundari', 'layer', 'problem', 'flat', 'plate', 'shear', 'flow', 'incompress', 'fluid', 'consid', 'solut', 'boundari', 'layer', 'thick', 'skin', 'friction', 'veloc', 'distribut', 'boundari', 'layer', 'obtain', 'karman', 'pohlhausen', 'techniqu', 'comparison', 'boundari', 'layer', 'uniform', 'flow', 'also', 'made', 'show', 'effect', 'vortic']\n",
      "Document D4 - Split (): ['exact', 'solution', 'of', 'the', 'neumann', 'problem', '.', 'calculation', 'for', 'non-', 'circulatory', 'plane', 'and', 'axially', 'symmetric', 'flows', 'about', 'or', 'within', 'arbitrary', 'boundaries', '.', 'an', 'exact', 'general', 'method', 'of', 'solving', 'the', 'neumann', 'or', 'second', 'boundary-value', 'problem', 'has', 'been', 'developed', 'and', 'has', 'been', 'applied', 'to', 'the', 'calculation', 'of', 'low-speed', 'flows', 'about', 'or', 'within', 'bodies', 'of', 'almost', 'any', 'shape,', 'provided', 'the', 'flow', 'is', 'either', 'plane', 'or', 'has', 'axial', 'symmetry', '.', 'solid-body,', 'inlet,', 'and', 'purely', 'internal', 'flow', 'problems', 'can', 'be', 'solved', '.', 'the', 'method', 'is', 'capable', 'of', 'dealing', 'with', 'several', 'bodies', 'at', 'once', 'in', 'the', 'presence', 'of', 'one', 'another,', 'and', 'consequently', 'interference', 'problems', 'can', 'be', 'treated', 'with', 'ease', '.', 'boundaries', 'need', 'not', 'be', 'solid,', 'that', 'is,', 'flows', 'involving', 'area', 'suction', 'can', 'be', 'calculated', '.', 'velocities', 'can', 'be', 'computed', 'not', 'only', 'for', 'points', 'on', 'the', 'surface', 'of', 'the', 'body', 'but', 'for', 'the', 'entire', 'flow', 'field', '.', 'a', 'surface', 'source', 'distribution', 'is', 'used', 'as', 'a', 'basis', 'for', 'solution', '.', 'this', 'leads', 'to', 'a', 'fredholm', 'integral', 'equation', 'of', 'the', 'second', 'kind,', 'which', 'is', 'solved', 'as', 'a', 'set', 'of', 'linear', 'algebraic', 'equations,', 'usually', 'by', 'a', 'modified', 'seidel', 'method', '.', 'at', 'the', 'present', 'time', 'the', 'solution', 'is', 'programed', 'on', 'the', 'ibm', '704', 'edpm', 'to', 'solve', 'the', 'flow', 'about', 'any', 'body', 'that', 'has', 'the', 'previously', 'mentioned', 'characteristics', 'and', 'whose', 'profile', 'can', 'be', 'defined', 'satisfactorily', 'by', 'no', 'more', 'than', '300', 'coordinate', 'points', '.', 'a', 'number', 'of', 'solutions', 'are', 'presented,', 'to', 'show', 'both', 'the', 'scope', 'of', 'the', 'method', 'and', 'its', 'accuracy', '.', 'computations', 'require', 'from', 'three', 'minutes', 'to', 'two', 'hours,', 'depending', 'upon', 'the', 'shape', 'of', 'the', 'body', 'and', 'the', 'number', 'of', 'points', 'used', 'to', 'define', 'it', '.']\n",
      "Document D4 - RegexpTokenizer(): ['exact', 'solution', 'of', 'the', 'neumann', 'problem', 'calculation', 'for', 'non', 'circulatory', 'plane', 'and', 'axially', 'symmetric', 'flows', 'about', 'or', 'within', 'arbitrary', 'boundaries', 'an', 'exact', 'general', 'method', 'of', 'solving', 'the', 'neumann', 'or', 'second', 'boundary', 'value', 'problem', 'has', 'been', 'developed', 'and', 'has', 'been', 'applied', 'to', 'the', 'calculation', 'of', 'low', 'speed', 'flows', 'about', 'or', 'within', 'bodies', 'of', 'almost', 'any', 'shape', 'provided', 'the', 'flow', 'is', 'either', 'plane', 'or', 'has', 'axial', 'symmetry', 'solid', 'body', 'inlet', 'and', 'purely', 'internal', 'flow', 'problems', 'can', 'be', 'solved', 'the', 'method', 'is', 'capable', 'of', 'dealing', 'with', 'several', 'bodies', 'at', 'once', 'in', 'the', 'presence', 'of', 'one', 'another', 'and', 'consequently', 'interference', 'problems', 'can', 'be', 'treated', 'with', 'ease', 'boundaries', 'need', 'not', 'be', 'solid', 'that', 'is', 'flows', 'involving', 'area', 'suction', 'can', 'be', 'calculated', 'velocities', 'can', 'be', 'computed', 'not', 'only', 'for', 'points', 'on', 'the', 'surface', 'of', 'the', 'body', 'but', 'for', 'the', 'entire', 'flow', 'field', 'a', 'surface', 'source', 'distribution', 'is', 'used', 'as', 'a', 'basis', 'for', 'solution', 'this', 'leads', 'to', 'a', 'fredholm', 'integral', 'equation', 'of', 'the', 'second', 'kind', 'which', 'is', 'solved', 'as', 'a', 'set', 'of', 'linear', 'algebraic', 'equations', 'usually', 'by', 'a', 'modified', 'seidel', 'method', 'at', 'the', 'present', 'time', 'the', 'solution', 'is', 'programed', 'on', 'the', 'ibm', '704', 'edpm', 'to', 'solve', 'the', 'flow', 'about', 'any', 'body', 'that', 'has', 'the', 'previously', 'mentioned', 'characteristics', 'and', 'whose', 'profile', 'can', 'be', 'defined', 'satisfactorily', 'by', 'no', 'more', 'than', '300', 'coordinate', 'points', 'a', 'number', 'of', 'solutions', 'are', 'presented', 'to', 'show', 'both', 'the', 'scope', 'of', 'the', 'method', 'and', 'its', 'accuracy', 'computations', 'require', 'from', 'three', 'minutes', 'to', 'two', 'hours', 'depending', 'upon', 'the', 'shape', 'of', 'the', 'body', 'and', 'the', 'number', 'of', 'points', 'used', 'to', 'define', 'it']\n",
      " length : 255\n",
      "Document D4 - termes sans mots vides: ['exact', 'solution', 'neumann', 'problem', 'calculation', 'non', 'circulatory', 'plane', 'axially', 'symmetric', 'flows', 'within', 'arbitrary', 'boundaries', 'exact', 'general', 'method', 'solving', 'neumann', 'second', 'boundary', 'value', 'problem', 'developed', 'applied', 'calculation', 'low', 'speed', 'flows', 'within', 'bodies', 'almost', 'shape', 'provided', 'flow', 'either', 'plane', 'axial', 'symmetry', 'solid', 'body', 'inlet', 'purely', 'internal', 'flow', 'problems', 'solved', 'method', 'capable', 'dealing', 'several', 'bodies', 'presence', 'one', 'another', 'consequently', 'interference', 'problems', 'treated', 'ease', 'boundaries', 'need', 'solid', 'flows', 'involving', 'area', 'suction', 'calculated', 'velocities', 'computed', 'points', 'surface', 'body', 'entire', 'flow', 'field', 'surface', 'source', 'distribution', 'used', 'basis', 'solution', 'leads', 'fredholm', 'integral', 'equation', 'second', 'kind', 'solved', 'set', 'linear', 'algebraic', 'equations', 'usually', 'modified', 'seidel', 'method', 'present', 'time', 'solution', 'programed', 'ibm', '704', 'edpm', 'solve', 'flow', 'body', 'previously', 'mentioned', 'characteristics', 'whose', 'profile', 'defined', 'satisfactorily', '300', 'coordinate', 'points', 'number', 'solutions', 'presented', 'show', 'scope', 'method', 'accuracy', 'computations', 'require', 'three', 'minutes', 'two', 'hours', 'depending', 'upon', 'shape', 'body', 'number', 'points', 'used', 'define']\n",
      "Document D4 - PorterStemmer: ['exact', 'solut', 'neumann', 'problem', 'calcul', 'non', 'circulatori', 'plane', 'axial', 'symmetr', 'flow', 'within', 'arbitrari', 'boundari', 'exact', 'gener', 'method', 'solv', 'neumann', 'second', 'boundari', 'valu', 'problem', 'develop', 'appli', 'calcul', 'low', 'speed', 'flow', 'within', 'bodi', 'almost', 'shape', 'provid', 'flow', 'either', 'plane', 'axial', 'symmetri', 'solid', 'bodi', 'inlet', 'pure', 'intern', 'flow', 'problem', 'solv', 'method', 'capabl', 'deal', 'sever', 'bodi', 'presenc', 'one', 'anoth', 'consequ', 'interfer', 'problem', 'treat', 'eas', 'boundari', 'need', 'solid', 'flow', 'involv', 'area', 'suction', 'calcul', 'veloc', 'comput', 'point', 'surfac', 'bodi', 'entir', 'flow', 'field', 'surfac', 'sourc', 'distribut', 'use', 'basi', 'solut', 'lead', 'fredholm', 'integr', 'equat', 'second', 'kind', 'solv', 'set', 'linear', 'algebra', 'equat', 'usual', 'modifi', 'seidel', 'method', 'present', 'time', 'solut', 'program', 'ibm', '704', 'edpm', 'solv', 'flow', 'bodi', 'previous', 'mention', 'characterist', 'whose', 'profil', 'defin', 'satisfactorili', '300', 'coordin', 'point', 'number', 'solut', 'present', 'show', 'scope', 'method', 'accuraci', 'comput', 'requir', 'three', 'minut', 'two', 'hour', 'depend', 'upon', 'shape', 'bodi', 'number', 'point', 'use', 'defin']\n",
      "Document D5 - Split (): ['secondary', 'flow', 'fields', 'embedded', 'in', 'hypersonic', 'shock', 'layers', '.', 'when', 'a', 'ramp', 'or', 'other', 'compression', 'surface', 'is', 'located', 'in', 'a', 'locally', 'supersonic', 'region', 'behind', 'a', 'hypersonic', 'bow', 'shock', 'wave,', 'it', 'generates', 'a', 'secondary', 'shock', 'wave', '.', 'the', 'ramp', 'flow', 'disturbance', 'may', 'be', 'viewed', 'as', 'an', 'embedded', 'newtonian', 'impact', 'flow', 'if', 'the', 'embedded', 'shock', 'layer', 'is', 'thin', '.', 'examination', 'of', 'the', 'applicability', 'of', 'newtonian', 'flow', 'theory', 'to', 'cones', 'and', 'wedges', 'in', 'uniform', 'streams', 'suggests', 'that', 'this', 'theory', 'can', 'be', 'expected', 'to', 'give', 'a', 'useful', 'approximation', 'to', 'the', 'surface', 'pressures', '.', 'a', 'pressure', 'equation', 'based', 'on', 'this', 'concept', 'predicts', 'a', 'number', 'of', 'interesting', 'things', '..', 'first,', 'pressures', 'can', 'differ', 'from', 'simple', 'newtonian', 'theory', 'by', 'factors', 'of', '1.5', 'to', '3,.', 'for', 'example,', 'on', 'flare', 'stabilizers', 'on', 'blunt-nosed', 'bodies', 'of', 'revolution,', 'pressures', 'are', 'lower', 'than', 'newtonian', 'and', 'diminish', 'with', 'increasing', 'flight', 'speed', 'in', 'the', 'hypersonic', 'speed', 'range', '.', 'the', 'calculated', 'pressures', 'vary', 'over', 'the', 'flare', 'surface', 'as', 'a', 'result', 'of', 'the', 'nonuniformity', 'of', 'its', 'incident', 'stream,', 'and', 'depend', 'on', 'the', 'axial', 'location', 'of', 'the', 'flare', '.', 'in', 'the', 'case', 'of', 'a', 'flap', 'mounted', 'on', 'a', 'large-angled', 'blunt-nosed', 'cone,', 'the', 'pressure', 'coefficients', 'vary', 'from', '1', 'to', '5', 'through', 'the', 'variable', 'entropy', 'layer', '.', 'a', 'pressure', 'coefficient', 'of', '5', 'greater', 'than', 'the', 'maximum', 'possible', 'in', 'newtonian', 'flow', 'can', 'occur', 'because', 'the', 'compression', 'process', 'is', 'more', 'efficient', 'than', 'a', 'single', 'shock', 'wave', 'process', '.', 'on', 'areas', 'of', 'the', 'flap', 'that', 'protrude', 'through', 'the', 'main', 'bow', 'wave,', 'the', 'pressure', 'coefficient', 'should', 'revert', 'to', 'the', 'simple', 'newtonian', 'value', '.', 'equations', 'are', 'developed', 'for', 'the', 'initial', 'slopes', 'of', 'the', 'normal-force', 'and', 'pitching-moment', 'curves', 'of', 'a', 'flare', 'stabilizer', '.', 'in', 'the', 'simplest', 'case', 'these', 'differ', 'from', 'conventional', 'newtonian', 'theory', 'by', 'the', 'ratio', 'of', 'local', 'dynamic', 'pressure', 'to', 'free-stream', 'dynamic', 'pressure', '.', 'this', 'ratio', 'takes', 'values', 'as', 'low', 'as', '0.1', 'in', 'some', 'of', 'the', 'examples', 'considered', '.']\n",
      "Document D5 - RegexpTokenizer(): ['secondary', 'flow', 'fields', 'embedded', 'in', 'hypersonic', 'shock', 'layers', 'when', 'a', 'ramp', 'or', 'other', 'compression', 'surface', 'is', 'located', 'in', 'a', 'locally', 'supersonic', 'region', 'behind', 'a', 'hypersonic', 'bow', 'shock', 'wave', 'it', 'generates', 'a', 'secondary', 'shock', 'wave', 'the', 'ramp', 'flow', 'disturbance', 'may', 'be', 'viewed', 'as', 'an', 'embedded', 'newtonian', 'impact', 'flow', 'if', 'the', 'embedded', 'shock', 'layer', 'is', 'thin', 'examination', 'of', 'the', 'applicability', 'of', 'newtonian', 'flow', 'theory', 'to', 'cones', 'and', 'wedges', 'in', 'uniform', 'streams', 'suggests', 'that', 'this', 'theory', 'can', 'be', 'expected', 'to', 'give', 'a', 'useful', 'approximation', 'to', 'the', 'surface', 'pressures', 'a', 'pressure', 'equation', 'based', 'on', 'this', 'concept', 'predicts', 'a', 'number', 'of', 'interesting', 'things', 'first', 'pressures', 'can', 'differ', 'from', 'simple', 'newtonian', 'theory', 'by', 'factors', 'of', '1', '5', 'to', '3', 'for', 'example', 'on', 'flare', 'stabilizers', 'on', 'blunt', 'nosed', 'bodies', 'of', 'revolution', 'pressures', 'are', 'lower', 'than', 'newtonian', 'and', 'diminish', 'with', 'increasing', 'flight', 'speed', 'in', 'the', 'hypersonic', 'speed', 'range', 'the', 'calculated', 'pressures', 'vary', 'over', 'the', 'flare', 'surface', 'as', 'a', 'result', 'of', 'the', 'nonuniformity', 'of', 'its', 'incident', 'stream', 'and', 'depend', 'on', 'the', 'axial', 'location', 'of', 'the', 'flare', 'in', 'the', 'case', 'of', 'a', 'flap', 'mounted', 'on', 'a', 'large', 'angled', 'blunt', 'nosed', 'cone', 'the', 'pressure', 'coefficients', 'vary', 'from', '1', 'to', '5', 'through', 'the', 'variable', 'entropy', 'layer', 'a', 'pressure', 'coefficient', 'of', '5', 'greater', 'than', 'the', 'maximum', 'possible', 'in', 'newtonian', 'flow', 'can', 'occur', 'because', 'the', 'compression', 'process', 'is', 'more', 'efficient', 'than', 'a', 'single', 'shock', 'wave', 'process', 'on', 'areas', 'of', 'the', 'flap', 'that', 'protrude', 'through', 'the', 'main', 'bow', 'wave', 'the', 'pressure', 'coefficient', 'should', 'revert', 'to', 'the', 'simple', 'newtonian', 'value', 'equations', 'are', 'developed', 'for', 'the', 'initial', 'slopes', 'of', 'the', 'normal', 'force', 'and', 'pitching', 'moment', 'curves', 'of', 'a', 'flare', 'stabilizer', 'in', 'the', 'simplest', 'case', 'these', 'differ', 'from', 'conventional', 'newtonian', 'theory', 'by', 'the', 'ratio', 'of', 'local', 'dynamic', 'pressure', 'to', 'free', 'stream', 'dynamic', 'pressure', 'this', 'ratio', 'takes', 'values', 'as', 'low', 'as', '0', '1', 'in', 'some', 'of', 'the', 'examples', 'considered']\n",
      " length : 300\n",
      "Document D5 - termes sans mots vides: ['secondary', 'flow', 'fields', 'embedded', 'hypersonic', 'shock', 'layers', 'ramp', 'compression', 'surface', 'located', 'locally', 'supersonic', 'region', 'behind', 'hypersonic', 'bow', 'shock', 'wave', 'generates', 'secondary', 'shock', 'wave', 'ramp', 'flow', 'disturbance', 'may', 'viewed', 'embedded', 'newtonian', 'impact', 'flow', 'embedded', 'shock', 'layer', 'thin', 'examination', 'applicability', 'newtonian', 'flow', 'theory', 'cones', 'wedges', 'uniform', 'streams', 'suggests', 'theory', 'expected', 'give', 'useful', 'approximation', 'surface', 'pressures', 'pressure', 'equation', 'based', 'concept', 'predicts', 'number', 'interesting', 'things', 'first', 'pressures', 'differ', 'simple', 'newtonian', 'theory', 'factors', '1', '5', '3', 'example', 'flare', 'stabilizers', 'blunt', 'nosed', 'bodies', 'revolution', 'pressures', 'lower', 'newtonian', 'diminish', 'increasing', 'flight', 'speed', 'hypersonic', 'speed', 'range', 'calculated', 'pressures', 'vary', 'flare', 'surface', 'result', 'nonuniformity', 'incident', 'stream', 'depend', 'axial', 'location', 'flare', 'case', 'flap', 'mounted', 'large', 'angled', 'blunt', 'nosed', 'cone', 'pressure', 'coefficients', 'vary', '1', '5', 'variable', 'entropy', 'layer', 'pressure', 'coefficient', '5', 'greater', 'maximum', 'possible', 'newtonian', 'flow', 'occur', 'compression', 'process', 'efficient', 'single', 'shock', 'wave', 'process', 'areas', 'flap', 'protrude', 'main', 'bow', 'wave', 'pressure', 'coefficient', 'revert', 'simple', 'newtonian', 'value', 'equations', 'developed', 'initial', 'slopes', 'normal', 'force', 'pitching', 'moment', 'curves', 'flare', 'stabilizer', 'simplest', 'case', 'differ', 'conventional', 'newtonian', 'theory', 'ratio', 'local', 'dynamic', 'pressure', 'free', 'stream', 'dynamic', 'pressure', 'ratio', 'takes', 'values', 'low', '0', '1', 'examples', 'considered']\n",
      "Document D5 - PorterStemmer: ['secondari', 'flow', 'field', 'embed', 'hyperson', 'shock', 'layer', 'ramp', 'compress', 'surfac', 'locat', 'local', 'superson', 'region', 'behind', 'hyperson', 'bow', 'shock', 'wave', 'gener', 'secondari', 'shock', 'wave', 'ramp', 'flow', 'disturb', 'may', 'view', 'embed', 'newtonian', 'impact', 'flow', 'embed', 'shock', 'layer', 'thin', 'examin', 'applic', 'newtonian', 'flow', 'theori', 'cone', 'wedg', 'uniform', 'stream', 'suggest', 'theori', 'expect', 'give', 'use', 'approxim', 'surfac', 'pressur', 'pressur', 'equat', 'base', 'concept', 'predict', 'number', 'interest', 'thing', 'first', 'pressur', 'differ', 'simpl', 'newtonian', 'theori', 'factor', '1', '5', '3', 'exampl', 'flare', 'stabil', 'blunt', 'nose', 'bodi', 'revolut', 'pressur', 'lower', 'newtonian', 'diminish', 'increas', 'flight', 'speed', 'hyperson', 'speed', 'rang', 'calcul', 'pressur', 'vari', 'flare', 'surfac', 'result', 'nonuniform', 'incid', 'stream', 'depend', 'axial', 'locat', 'flare', 'case', 'flap', 'mount', 'larg', 'angl', 'blunt', 'nose', 'cone', 'pressur', 'coeffici', 'vari', '1', '5', 'variabl', 'entropi', 'layer', 'pressur', 'coeffici', '5', 'greater', 'maximum', 'possibl', 'newtonian', 'flow', 'occur', 'compress', 'process', 'effici', 'singl', 'shock', 'wave', 'process', 'area', 'flap', 'protrud', 'main', 'bow', 'wave', 'pressur', 'coeffici', 'revert', 'simpl', 'newtonian', 'valu', 'equat', 'develop', 'initi', 'slope', 'normal', 'forc', 'pitch', 'moment', 'curv', 'flare', 'stabil', 'simplest', 'case', 'differ', 'convent', 'newtonian', 'theori', 'ratio', 'local', 'dynam', 'pressur', 'free', 'stream', 'dynam', 'pressur', 'ratio', 'take', 'valu', 'low', '0', '1', 'exampl', 'consid']\n",
      "Document D6 - Split (): ['pressure', 'and', 'boundary-layer', 'measurements', 'on', 'a', 'two', 'dimensional', 'wing', 'at', 'low', 'speed', '.', 'results', 'are', 'given', 'of', 'pressure', 'measurements', 'and', 'boundary-layer', 'traverses', 'on', 'a', 'two-dimensional', 'wing', 'with', '10', 'per', 'cent', 'rae', '101', 'section', 'at', 'reynolds', 'numbers', 'of', '1.6x10', 'and', '3.2x10', '.', 'these', 'results', 'which', 'have', 'been', 'integrated', 'to', 'give', 'lift,', 'drag', 'and', 'aerodynamic-centre', 'characteristics,', 'are', 'used', 'to', 'check', 'some', 'calculation', 'methods', 'for', 'the', 'growth', 'of', 'the', 'turbulent', 'boundary', 'layer', 'and', 'for', 'the', 'effect', 'of', 'a', 'known', 'boundary', 'layer', 'on', 'the', 'pressure', 'distribution', '.', 'it', 'is', 'concluded', 'that', 'the', 'calculation', 'of', 'the', 'boundary', 'layer', 'still', 'needs', 'a', 'little', 'refinement', 'before', 'it', 'is', 'accurate', 'enough', 'to', 'predict', 'viscosity', 'effects', 'on', 'pressure', 'distribution,', 'lift,', 'drag', 'and', 'aerodynamic', 'center,.but', 'that', 'these', 'effects', 'can', 'be', 'calculated', 'if', 'the', 'actual', 'boundary-layer', 'characteristics', 'are', 'known', '.']\n",
      "Document D6 - RegexpTokenizer(): ['pressure', 'and', 'boundary', 'layer', 'measurements', 'on', 'a', 'two', 'dimensional', 'wing', 'at', 'low', 'speed', 'results', 'are', 'given', 'of', 'pressure', 'measurements', 'and', 'boundary', 'layer', 'traverses', 'on', 'a', 'two', 'dimensional', 'wing', 'with', '10', 'per', 'cent', 'rae', '101', 'section', 'at', 'reynolds', 'numbers', 'of', '1', '6', 'x10', 'and', '3', '2', 'x10', 'these', 'results', 'which', 'have', 'been', 'integrated', 'to', 'give', 'lift', 'drag', 'and', 'aerodynamic', 'centre', 'characteristics', 'are', 'used', 'to', 'check', 'some', 'calculation', 'methods', 'for', 'the', 'growth', 'of', 'the', 'turbulent', 'boundary', 'layer', 'and', 'for', 'the', 'effect', 'of', 'a', 'known', 'boundary', 'layer', 'on', 'the', 'pressure', 'distribution', 'it', 'is', 'concluded', 'that', 'the', 'calculation', 'of', 'the', 'boundary', 'layer', 'still', 'needs', 'a', 'little', 'refinement', 'before', 'it', 'is', 'accurate', 'enough', 'to', 'predict', 'viscosity', 'effects', 'on', 'pressure', 'distribution', 'lift', 'drag', 'and', 'aerodynamic', 'center', 'but', 'that', 'these', 'effects', 'can', 'be', 'calculated', 'if', 'the', 'actual', 'boundary', 'layer', 'characteristics', 'are', 'known']\n",
      " length : 135\n",
      "Document D6 - termes sans mots vides: ['pressure', 'boundary', 'layer', 'measurements', 'two', 'dimensional', 'wing', 'low', 'speed', 'results', 'given', 'pressure', 'measurements', 'boundary', 'layer', 'traverses', 'two', 'dimensional', 'wing', '10', 'per', 'cent', 'rae', '101', 'section', 'reynolds', 'numbers', '1', '6', 'x10', '3', '2', 'x10', 'results', 'integrated', 'give', 'lift', 'drag', 'aerodynamic', 'centre', 'characteristics', 'used', 'check', 'calculation', 'methods', 'growth', 'turbulent', 'boundary', 'layer', 'effect', 'known', 'boundary', 'layer', 'pressure', 'distribution', 'concluded', 'calculation', 'boundary', 'layer', 'still', 'needs', 'little', 'refinement', 'accurate', 'enough', 'predict', 'viscosity', 'effects', 'pressure', 'distribution', 'lift', 'drag', 'aerodynamic', 'center', 'effects', 'calculated', 'actual', 'boundary', 'layer', 'characteristics', 'known']\n",
      "Document D6 - PorterStemmer: ['pressur', 'boundari', 'layer', 'measur', 'two', 'dimension', 'wing', 'low', 'speed', 'result', 'given', 'pressur', 'measur', 'boundari', 'layer', 'travers', 'two', 'dimension', 'wing', '10', 'per', 'cent', 'rae', '101', 'section', 'reynold', 'number', '1', '6', 'x10', '3', '2', 'x10', 'result', 'integr', 'give', 'lift', 'drag', 'aerodynam', 'centr', 'characterist', 'use', 'check', 'calcul', 'method', 'growth', 'turbul', 'boundari', 'layer', 'effect', 'known', 'boundari', 'layer', 'pressur', 'distribut', 'conclud', 'calcul', 'boundari', 'layer', 'still', 'need', 'littl', 'refin', 'accur', 'enough', 'predict', 'viscos', 'effect', 'pressur', 'distribut', 'lift', 'drag', 'aerodynam', 'center', 'effect', 'calcul', 'actual', 'boundari', 'layer', 'characterist', 'known']\n"
     ]
    }
   ],
   "source": [
    "index_inverse_porter = {}\n",
    "index_inverse_lancaster = {}\n",
    "\n",
    "for doc in documents:\n",
    "    with open(os.path.join(collection_path, doc), 'r', encoding='utf-8') as file:\n",
    "        texte = file.read()\n",
    "        \n",
    "    nom_sans_extension = extraire_nom_sans_extension(doc)\n",
    "    \n",
    "    # Étape 1: Extraction des termes\n",
    "    termes_split, termes_regexp = extraire_termes(texte)\n",
    "    print(f\"Document {nom_sans_extension} - Split (): {termes_split}\")\n",
    "    print(f\"Document {nom_sans_extension} - RegexpTokenizer(): {termes_regexp}\")\n",
    "    print(f\" length : {len(termes_regexp)}\")\n",
    "\n",
    "    # Étape 2: Suppression des mots vides\n",
    "    termes_sans_mots_vides = supprimer_mots_vides(termes_regexp)\n",
    "    print(f\"Document {nom_sans_extension} - termes sans mots vides: {termes_sans_mots_vides}\")\n",
    "\n",
    "    # Étape 3: Normalisation avec PorterStemmer/LancerStemmer\n",
    "    termes_porter, termes_lancaster = normaliser_termes(termes_sans_mots_vides)\n",
    "    print(f\"Document {nom_sans_extension} - PorterStemmer: {termes_porter}\")\n",
    "\n",
    "    # Étape 5: Génération du fichier descriptif\n",
    "    generer_fichier_descripteur(doc, termes_porter ,termes_lancaster)\n",
    "    construire_index_inverse(doc , termes_porter, termes_lancaster ,index_inverse_porter , index_inverse_lancaster)\n",
    "    \n",
    "\n"
   ]
  },
  {
   "cell_type": "code",
   "execution_count": 55,
   "metadata": {},
   "outputs": [
    {
     "name": "stdout",
     "output_type": "stream",
     "text": [
      "L'index inversé a été sauvegardé dans ../Inverse/index_inverse.json.\n"
     ]
    }
   ],
   "source": [
    "# Chemin pour l'index inversé\n",
    "index_inverse_path = '../Inverse/index_inverse.json'\n",
    "\n",
    "# Créer le répertoire s'il n'existe pas\n",
    "os.makedirs(os.path.dirname(index_inverse_path), exist_ok=True)\n",
    "\n",
    "index_inverse = {\n",
    "    'Porter': index_inverse_porter,\n",
    "    'Lancaster': index_inverse_lancaster\n",
    "}\n",
    "\n",
    "# Sauvegarder les index dans le fichier JSON\n",
    "with open(index_inverse_path, 'w', encoding='utf-8') as f:\n",
    "    json.dump(index_inverse, f, ensure_ascii=False, indent=4)\n",
    "\n",
    "print(f\"L'index inversé a été sauvegardé dans {index_inverse_path}.\")\n",
    "\n"
   ]
  },
  {
   "cell_type": "code",
   "execution_count": null,
   "metadata": {},
   "outputs": [],
   "source": []
  }
 ],
 "metadata": {
  "kernelspec": {
   "display_name": "ML",
   "language": "python",
   "name": "python3"
  },
  "language_info": {
   "codemirror_mode": {
    "name": "ipython",
    "version": 3
   },
   "file_extension": ".py",
   "mimetype": "text/x-python",
   "name": "python",
   "nbconvert_exporter": "python",
   "pygments_lexer": "ipython3",
   "version": "3.9.16"
  }
 },
 "nbformat": 4,
 "nbformat_minor": 2
}
